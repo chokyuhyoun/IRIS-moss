{
 "cells": [
  {
   "cell_type": "code",
   "execution_count": 2,
   "id": "2aff329c-9e5e-48e2-b683-be1268c43183",
   "metadata": {},
   "outputs": [],
   "source": [
    "import numpy as np\n",
    "import matplotlib.pyplot as plt"
   ]
  },
  {
   "cell_type": "code",
   "execution_count": null,
   "id": "01988063-5900-4808-8418-44734b77640c",
   "metadata": {},
   "outputs": [],
   "source": [
    "%matplotlib tk\n",
    "import matplotlib.pyplot as plt\n",
    "import matplotlib.animation\n",
    "import numpy as np\n",
    "\n",
    "def waves(A, B, k, x, w, t):\n",
    "    return A*np.cos(k*x - w*t) + B*np.cos(k*x + w*t)\n",
    "\n",
    "pi = np.pi\n",
    "t = np.linspace(0, 32*pi, 100)\n",
    "x = np.linspace(0, 8*pi, 100)\n",
    "x = np.array([6, 9])\n",
    "A = 1\n",
    "B = -1\n",
    "k = 2*pi/10.\n",
    "w = 2*pi\n",
    "\n",
    "\n",
    "fig, ax = plt.subplots()\n",
    "ax.set_ylim([-3, 3])\n",
    "ax.grid(True)\n",
    "p00 = ax.plot(x, waves(A, 0, k, x, w, t[0]), ':')[0]\n",
    "p01 = ax.plot(x, waves(A, B, k, x, w, t[0]), ':')[0]\n",
    "\n",
    "\n",
    "def update(frame):\n",
    "    p00.set_data(x, waves(A, 0, k, x, w, t[frame]))\n",
    "    p01.set_data(x, waves(A, B, k, x, w, t[frame]))\n",
    "    \n",
    "\n",
    "ani = matplotlib.animation.FuncAnimation(fig=fig, func=update, frames=len(t), interval=50)\n",
    "plt.show()"
   ]
  },
  {
   "cell_type": "code",
   "execution_count": 5,
   "id": "930525ff-55a9-44fa-bd4e-20b9629bcf7c",
   "metadata": {},
   "outputs": [
    {
     "data": {
      "text/plain": [
       "[<matplotlib.lines.Line2D at 0x12399f7d0>]"
      ]
     },
     "execution_count": 5,
     "metadata": {},
     "output_type": "execute_result"
    }
   ],
   "source": []
  },
  {
   "cell_type": "code",
   "execution_count": null,
   "id": "bf6410da-ff56-4b7c-9c5b-9c7da0d0adf0",
   "metadata": {},
   "outputs": [],
   "source": []
  }
 ],
 "metadata": {
  "kernelspec": {
   "display_name": "Python 3 (ipykernel)",
   "language": "python",
   "name": "python3"
  },
  "language_info": {
   "codemirror_mode": {
    "name": "ipython",
    "version": 3
   },
   "file_extension": ".py",
   "mimetype": "text/x-python",
   "name": "python",
   "nbconvert_exporter": "python",
   "pygments_lexer": "ipython3",
   "version": "3.12.6"
  }
 },
 "nbformat": 4,
 "nbformat_minor": 5
}
